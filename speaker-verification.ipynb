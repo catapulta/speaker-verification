{
 "cells": [
  {
   "cell_type": "code",
   "execution_count": 2,
   "metadata": {},
   "outputs": [
    {
     "name": "stdout",
     "output_type": "stream",
     "text": [
      "Pre-processing file 1...\n"
     ]
    },
    {
     "name": "stderr",
     "output_type": "stream",
     "text": [
      "100%|██████████| 1202/1202 [00:26<00:00, 46.23it/s]\n"
     ]
    },
    {
     "name": "stdout",
     "output_type": "stream",
     "text": [
      "Pre-processing file 2...\n"
     ]
    },
    {
     "name": "stderr",
     "output_type": "stream",
     "text": [
      "100%|██████████| 2271/2271 [00:49<00:00, 46.03it/s]\n"
     ]
    }
   ],
   "source": [
    "import loader\n",
    "\n",
    "dl = loader.DataDownload(vad_nframes=9984)\n",
    "# dl.download(parts=['A', 'B', 'C'])\n",
    "# dl.extract(parts=['A', 'B', 'C'], erase_tar=True)\n",
    "dl.get_train(parts=[1, 2])\n",
    "# dl.get_dev()\n",
    "# dl.get_test()"
   ]
  },
  {
   "cell_type": "code",
   "execution_count": null,
   "metadata": {},
   "outputs": [
    {
     "name": "stderr",
     "output_type": "stream",
     "text": [
      "100%|██████████| 2/2 [00:06<00:00,  2.88s/it]\n"
     ]
    },
    {
     "name": "stdout",
     "output_type": "stream",
     "text": [
      "\n",
      "Loaded 3473 utterances from 381 unique speakers.\n",
      "Loaded dev data.\n",
      "At 7% of epoch 0\n",
      "Training loss : 8.319923400878906\n",
      "Training accuracy 0.0:\n",
      "--------------------------------------------\n",
      "At 14% of epoch 0\n",
      "Training loss : 7.640960693359375\n",
      "Training accuracy 0.0:\n",
      "--------------------------------------------\n",
      "At 22% of epoch 0\n",
      "Training loss : 6.2035112380981445\n",
      "Training accuracy 0.0:\n",
      "--------------------------------------------\n",
      "At 29% of epoch 0\n",
      "Training loss : 6.562872886657715\n",
      "Training accuracy 0.0:\n",
      "--------------------------------------------\n",
      "At 36% of epoch 0\n",
      "Training loss : 6.234527587890625\n",
      "Training accuracy 0.0:\n",
      "--------------------------------------------\n",
      "At 43% of epoch 0\n",
      "Training loss : 6.1777238845825195\n",
      "Training accuracy 0.0:\n",
      "--------------------------------------------\n",
      "At 50% of epoch 0\n",
      "Training loss : 5.878007411956787\n",
      "Training accuracy 0.0:\n",
      "--------------------------------------------\n",
      "At 58% of epoch 0\n",
      "Training loss : 6.089095592498779\n",
      "Training accuracy 0.0:\n",
      "--------------------------------------------\n",
      "At 65% of epoch 0\n",
      "Training loss : 6.02353048324585\n",
      "Training accuracy 0.0:\n",
      "--------------------------------------------\n",
      "At 72% of epoch 0\n",
      "Training loss : 6.0255866050720215\n",
      "Training accuracy 0.0:\n",
      "--------------------------------------------\n",
      "At 79% of epoch 0\n",
      "Training loss : 6.050638198852539\n",
      "Training accuracy 0.0:\n",
      "--------------------------------------------\n",
      "At 86% of epoch 0\n",
      "Training loss : 5.92304801940918\n",
      "Training accuracy 0.0:\n",
      "--------------------------------------------\n",
      "At 94% of epoch 0\n",
      "Training loss : 6.028378486633301\n",
      "Training accuracy 0.08:\n",
      "--------------------------------------------\n",
      "#########  Epoch 0 #########\n"
     ]
    }
   ],
   "source": [
    "import model\n",
    "from train_test import train_net\n",
    "\n",
    "# all_cnn = train_net(net=model.all_cnn_module, lr=0.1, n_iters=350, batch_size=150, num_workers=4)\n",
    "all_cnn = train_net(layer_name='30', embedding_size=100, parts=[1,2], net=model.all_cnn_module, lr=1e-5, n_iters=500,\n",
    "                    batch_size=25, num_workers=4)\n"
   ]
  },
  {
   "cell_type": "code",
   "execution_count": null,
   "metadata": {},
   "outputs": [],
   "source": []
  }
 ],
 "metadata": {
  "kernelspec": {
   "display_name": "Environment (conda_pytorch_p36)",
   "language": "python",
   "name": "conda_pytorch_p36"
  },
  "language_info": {
   "codemirror_mode": {
    "name": "ipython",
    "version": 3
   },
   "file_extension": ".py",
   "mimetype": "text/x-python",
   "name": "python",
   "nbconvert_exporter": "python",
   "pygments_lexer": "ipython3",
   "version": "3.6.5"
  }
 },
 "nbformat": 4,
 "nbformat_minor": 2
}
